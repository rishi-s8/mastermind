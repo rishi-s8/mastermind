{
 "cells": [
  {
   "cell_type": "code",
   "execution_count": 1,
   "metadata": {},
   "outputs": [],
   "source": [
    "from z3 import *\n",
    "import argparse\n",
    "import itertools\n",
    "import time\n",
    "from random import randint"
   ]
  },
  {
   "cell_type": "code",
   "execution_count": 2,
   "metadata": {},
   "outputs": [],
   "source": [
    "def sum_to_one( ls ):\n",
    "    # At least one\n",
    "    atLeastOne = Or(ls)\n",
    "    atMostOne = True\n",
    "    for i,j in itertools.combinations(ls,2):\n",
    "        atMostOne = And(Or(Not(i), Not(j)), atMostOne)\n",
    "    exactlyOne = And(atLeastOne, atMostOne)\n",
    "    return exactlyOne"
   ]
  },
  {
   "cell_type": "code",
   "execution_count": 3,
   "metadata": {},
   "outputs": [],
   "source": [
    "n=8\n",
    "k=4"
   ]
  },
  {
   "cell_type": "code",
   "execution_count": 4,
   "metadata": {},
   "outputs": [],
   "source": [
    "vs = [  [Bool (\"e_{}_{}\".format(i,j))  for j in range(n)] for i in range(k)]"
   ]
  },
  {
   "cell_type": "code",
   "execution_count": 5,
   "metadata": {},
   "outputs": [],
   "source": [
    "base_cons = []\n",
    "\n",
    "# add basic constraints\n",
    "for i in vs:\n",
    "    base_cons.append(sum_to_one(i))\n",
    "\n",
    "s = Solver()\n",
    "stack_size = 0\n",
    "\n",
    "s.add( And(base_cons) )"
   ]
  },
  {
   "cell_type": "code",
   "execution_count": 6,
   "metadata": {},
   "outputs": [
    {
     "name": "stdout",
     "output_type": "stream",
     "text": [
      "[[e_0_0, e_0_1, e_0_2, e_0_3, e_0_4, e_0_5, e_0_6, e_0_7], [e_1_0, e_1_1, e_1_2, e_1_3, e_1_4, e_1_5, e_1_6, e_1_7], [e_2_0, e_2_1, e_2_2, e_2_3, e_2_4, e_2_5, e_2_6, e_2_7], [e_3_0, e_3_1, e_3_2, e_3_3, e_3_4, e_3_5, e_3_6, e_3_7]]\n"
     ]
    }
   ],
   "source": [
    "print(vs)"
   ]
  },
  {
   "cell_type": "code",
   "execution_count": 7,
   "metadata": {},
   "outputs": [
    {
     "name": "stdout",
     "output_type": "stream",
     "text": [
      "e_0_1\n",
      "e_1_0\n",
      "e_2_0\n",
      "e_3_0\n"
     ]
    }
   ],
   "source": [
    "#print (And(base_cons))\n",
    "r = s.check()\n",
    "if r == sat:\n",
    "    m = s.model()\n",
    "    for i in vs:\n",
    "        for j in i:\n",
    "            if is_true(m[j]):\n",
    "                print(j)\n",
    "else:\n",
    "    print(\"unsat\")"
   ]
  },
  {
   "cell_type": "code",
   "execution_count": 8,
   "metadata": {},
   "outputs": [],
   "source": [
    "def add_a_guess_solution( guess, reds, whites ):\n",
    "    global stack_size\n",
    "    guess_cons = True\n",
    "    redCombs = False\n",
    "    for rc in itertools.combinations(range(k), reds):\n",
    "        notRC = []\n",
    "        for i in range(k):\n",
    "            if i not in rc:\n",
    "                notRC.append(i)\n",
    "\n",
    "        C1 = True\n",
    "        for x in rc:\n",
    "            C1 = And(C1, vs[x][guess[x]])\n",
    "\n",
    "        C2 = False\n",
    "\n",
    "        for x in notRC:\n",
    "            C2 = Or(C2, vs[x][guess[x]])\n",
    "\n",
    "        redCombs = Or(redCombs, And(C1, Not(C2)))\n",
    "    \n",
    "    whiteConstraint = False\n",
    "    for wc in itertools.combinations(range(k), whites):\n",
    "        temp1 = True\n",
    "        for x in wc:\n",
    "            temp = False\n",
    "            for i in range(k):\n",
    "                if i!=x:\n",
    "                    temp = Or(temp, vs[i][guess[x]])\n",
    "            temp = And(Not(vs[x][guess[x]]), temp)\n",
    "            temp1 = And(temp1, temp)\n",
    "        whiteConstraint = Or(whiteConstraint, temp1)\n",
    "    \n",
    "    others = k - reds - whites\n",
    "    \n",
    "    noColor = False\n",
    "    if reds==0 and whites==0:\n",
    "        for i in range(k):\n",
    "            for j in range(k):\n",
    "                noColor = Or(noColor, vs[j][guess[i]])\n",
    "    noColor = Not(noColor)\n",
    "    guess_cons = And(whiteConstraint, And(redCombs, noColor))\n",
    "    s.push()\n",
    "    s.add( guess_cons )\n",
    "    stack_size += 1"
   ]
  },
  {
   "cell_type": "code",
   "execution_count": 9,
   "metadata": {},
   "outputs": [],
   "source": [
    "color_name =  { 0:'R', 1:'G', 2:'B', 3:'Y', 4:'Br', 5:'O', 6:'Bl', 7:'W', }\n",
    "if n > 8:\n",
    "    for i in range(8,n):\n",
    "        color_name[i] = 'C'+str(i)"
   ]
  },
  {
   "cell_type": "code",
   "execution_count": 10,
   "metadata": {},
   "outputs": [],
   "source": [
    "def print_move( move ):\n",
    "    for i in range(k):\n",
    "        c = color_name[move[i]]\n",
    "        print(c, end=' '),\n",
    "    print(\"\\n\")"
   ]
  },
  {
   "cell_type": "code",
   "execution_count": 11,
   "metadata": {},
   "outputs": [],
   "source": [
    "def get_a_solution():\n",
    "    global stack_size\n",
    "    sol = [0]*k\n",
    "    if s.check() == sat:\n",
    "        m = s.model()\n",
    "        for i in range(k):\n",
    "            for j in range(n):\n",
    "                val = m[vs[i][j]]\n",
    "                if is_true( val ):\n",
    "                    sol[i] = j\n",
    "        return sol\n",
    "    else:\n",
    "        if stack_size == 0:\n",
    "            print(\"some thing bad happened! no more moves!\\n\")\n",
    "            raise Exception('Failed!')\n",
    "        else:\n",
    "            to_pop = randint(1,stack_size)\n",
    "            stack_size -= to_pop\n",
    "            for i in range(to_pop):\n",
    "                s.pop()\n",
    "            r = s.check()\n",
    "            m = s.model()\n",
    "            for i in range(k):\n",
    "                for j in range(n):\n",
    "                    val = m[vs[i][j]]\n",
    "                    if is_true( val ):\n",
    "                        sol[i] = j\n",
    "            return sol"
   ]
  },
  {
   "cell_type": "code",
   "execution_count": 12,
   "metadata": {},
   "outputs": [],
   "source": [
    "def get_response():\n",
    "    red = int(input(\"Enter red count: \"))\n",
    "    white = int(input(\"Enter white count: \"))\n",
    "    if white+red > k:\n",
    "        raise Exception(\"bad input!\")\n",
    "    return red,white\n"
   ]
  },
  {
   "cell_type": "code",
   "execution_count": 13,
   "metadata": {},
   "outputs": [],
   "source": [
    "def play_game():\n",
    "    guess_list = []\n",
    "    response_list = []\n",
    "    red = 0\n",
    "    while red < k:\n",
    "        if len(guess_list) == 0:\n",
    "            # TODO: start with random guess\n",
    "            move = [0,0,1,1]\n",
    "        else:\n",
    "            move = get_a_solution()\n",
    "        guess_list.append(move)\n",
    "        print(\"found a move:\")\n",
    "        print_move( move )\n",
    "        red, white = get_response()\n",
    "        add_a_guess_solution( move, red, white )\n",
    "    print(\"Game solved!\")"
   ]
  },
  {
   "cell_type": "code",
   "execution_count": 14,
   "metadata": {},
   "outputs": [
    {
     "name": "stdout",
     "output_type": "stream",
     "text": [
      "found a move:\n",
      "R R G G \n",
      "\n",
      "Enter red count: 0\n",
      "Enter white count: 0\n",
      "found a move:\n",
      "B Y B B \n",
      "\n",
      "Enter red count: 0\n",
      "Enter white count: 0\n",
      "found a move:\n",
      "Br Br Br Br \n",
      "\n",
      "Enter red count: 1\n",
      "Enter white count: 0\n",
      "found a move:\n",
      "Br O O Bl \n",
      "\n",
      "Enter red count: 1\n",
      "Enter white count: 1\n",
      "found a move:\n",
      "W O Bl Br \n",
      "\n",
      "Enter red count: 2\n",
      "Enter white count: 2\n",
      "found a move:\n",
      "W Bl O Br \n",
      "\n",
      "Enter red count: 0\n",
      "Enter white count: 4\n",
      "found a move:\n",
      "W W W W \n",
      "\n",
      "Enter red count: 1\n",
      "Enter white count: 0\n",
      "found a move:\n",
      "O W Br O \n",
      "\n",
      "Enter red count: 0\n",
      "Enter white count: 3\n",
      "found a move:\n",
      "W O Bl Br \n",
      "\n",
      "Enter red count: 2\n",
      "Enter white count: 2\n",
      "found a move:\n",
      "Br O Bl W \n",
      "\n",
      "Enter red count: 4\n",
      "Enter white count: 0\n",
      "Game solved!\n"
     ]
    }
   ],
   "source": [
    "play_game()"
   ]
  },
  {
   "cell_type": "code",
   "execution_count": null,
   "metadata": {},
   "outputs": [],
   "source": []
  }
 ],
 "metadata": {
  "kernelspec": {
   "display_name": "Python 3",
   "language": "python",
   "name": "python3"
  },
  "language_info": {
   "codemirror_mode": {
    "name": "ipython",
    "version": 3
   },
   "file_extension": ".py",
   "mimetype": "text/x-python",
   "name": "python",
   "nbconvert_exporter": "python",
   "pygments_lexer": "ipython3",
   "version": "3.6.8"
  }
 },
 "nbformat": 4,
 "nbformat_minor": 2
}
